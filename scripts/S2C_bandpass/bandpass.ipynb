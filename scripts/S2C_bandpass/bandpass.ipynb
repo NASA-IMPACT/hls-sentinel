{
 "cells": [
  {
   "cell_type": "code",
   "execution_count": 1,
   "id": "347229a3-7a0a-4072-9a75-af9c71154b76",
   "metadata": {},
   "outputs": [],
   "source": [
    "import os\n",
    "import pandas as pd\n",
    "import numpy as np\n",
    "import matplotlib.pyplot as plt\n",
    "from scipy.stats import linregress"
   ]
  },
  {
   "cell_type": "code",
   "execution_count": 2,
   "id": "c723b6bd-f4b9-474b-b7c0-e388fbf18bd3",
   "metadata": {},
   "outputs": [],
   "source": [
    "HLS_L8 = [\"B02\", \"B03\", \"B04\", \"B05\", \"B06\", \"B07\"] # Coastal Aerosol: \"B01\", cirrus: \"B09\"\n",
    "L8_2_S2 = {\"B01\": \"B01\", \"B02\": \"B02\", \"B03\": \"B03\", \"B04\": \"B04\", \n",
    "          \"B05\": \"B8A\", \"B06\": \"B11\", \"B07\": \"B12\", \"B09\": \"B10\"}\n",
    "L8_bandname = {\"B01\":\"Coastal Aerosol\", \"B02\":\"Blue\", \"B03\":\"Green\", \"B04\":\"Red\", \n",
    "               \"B05\":\"NIR Narrow\", \"B06\":\"SWIR 1\", \"B07\":\"SWIR 2\", \"B09\":\"Cirrus\"}\n",
    "S2_bandname = {\"B01\":\"Coastal Aerosol\", \"B02\":\"Blue\", \"B03\":\"Green\", \"B04\":\"Red\", \n",
    "               \"B8A\":\"NIR Narrow\", \"B11\":\"SWIR1\", \"B12\":\"SWIR2\", \"B10\":\"Cirrus\"}\n",
    "L8_name2index = {'Coastal Aerosol': 'B01', 'Blue': 'B02', 'Green': 'B03', 'Red': 'B04',\n",
    "                 'NIR': 'B05', 'SWIR1': 'B06', 'SWIR2': 'B07'}\n",
    "S2_name2index = {'Coastal Aerosol': 'B01', 'Blue': 'B02', 'Green': 'B03', 'Red': 'B04',\n",
    "                 'NIR': 'B8A', 'SWIR1': 'B11', 'SWIR2': 'B12'}\n",
    "common_bands = [\"Coastal Aerosol\", \"Blue\",\"Green\",\"Red\",\"NIR\",\"SWIR1\", \"SWIR2\"]\n",
    "bandname2bpname = {\"Coastal Aerosol\": \"CA\", \"Blue\": \"Blue\",\"Green\": \"Green\",\"Red\": \"Red\",\"NIR\": \"NIR1\",\"SWIR1\": \"SWIR1\", \"SWIR2\": \"SWIR2\"}\n",
    "work_dir = r\"C:\\Users\\qzhou2\\C_workdir\\Bandpass_linear\""
   ]
  },
  {
   "cell_type": "code",
   "execution_count": 3,
   "id": "ff853ca9-5ccc-4ff1-8ba3-a30aa99250f4",
   "metadata": {},
   "outputs": [],
   "source": [
    "\n",
    "# df_MSI2B =  pd.read_csv('https://jeodpp.jrc.ec.europa.eu/ftp/jrc-opendata/DRLL/SaSurf/ConvolutedSpectra/Hyperion/Hyperion_spectra_MSI_2B.csv')\n",
    "# df_OLI   =  pd.read_csv('https://jeodpp.jrc.ec.europa.eu/ftp/jrc-opendata/DRLL/SaSurf/ConvolutedSpectra/Hyperion/Hyperion_spectra_OLI.csv')\n",
    "df_MSI2B =  pd.read_csv(os.path.join(work_dir, \"Hyperion_spectra_MSI_2B.csv\"))\n",
    "df_OLI   =  pd.read_csv(os.path.join(work_dir, \"Hyperion_spectra_OLI.csv\"))"
   ]
  },
  {
   "cell_type": "code",
   "execution_count": 4,
   "id": "a274f1f8-0ea8-4659-95c6-5f3b5bfc25ee",
   "metadata": {},
   "outputs": [
    {
     "name": "stdout",
     "output_type": "stream",
     "text": [
      "CA\n",
      "LinregressResult(slope=np.float64(0.9958871255508038), intercept=np.float64(-0.0002487276412661901), rvalue=np.float64(0.9999861238470251), pvalue=np.float64(0.0), stderr=np.float64(5.246958254665566e-05), intercept_stderr=np.float64(4.762262832019465e-06))\n",
      "Blue\n",
      "LinregressResult(slope=np.float64(0.9780309010429667), intercept=np.float64(-0.004061428468512457), rvalue=np.float64(0.999733596614855), pvalue=np.float64(0.0), stderr=np.float64(0.0002258227357406648), intercept_stderr=np.float64(2.5482365945872784e-05))\n",
      "Green\n",
      "LinregressResult(slope=np.float64(1.0073190860136878), intercept=np.float64(-0.0008447341379998752), rvalue=np.float64(0.9998286859944506), pvalue=np.float64(0.0), stderr=np.float64(0.00018649952725904016), intercept_stderr=np.float64(2.677346198052814e-05))\n",
      "Red\n",
      "LinregressResult(slope=np.float64(0.9760896456316299), intercept=np.float64(0.0010256725249797871), rvalue=np.float64(0.9998546297658694), pvalue=np.float64(0.0), stderr=np.float64(0.00016646894857005808), intercept_stderr=np.float64(2.8862338923471467e-05))\n",
      "NIR2\n",
      "LinregressResult(slope=np.float64(1.0177316936553253), intercept=np.float64(0.00835544371750363), rvalue=np.float64(0.9976538573319376), pvalue=np.float64(0.0), stderr=np.float64(0.0006984481559719519), intercept_stderr=np.float64(0.00019204712740856684))\n",
      "NIR1\n",
      "LinregressResult(slope=np.float64(0.9966445715003776), intercept=np.float64(2.5264301537653022e-05), rvalue=np.float64(0.999994486715849), pvalue=np.float64(0.0), stderr=np.float64(3.309830252415834e-05), intercept_stderr=np.float64(9.552697893640857e-06))\n",
      "SWIR1\n",
      "LinregressResult(slope=np.float64(0.9999565220607808), intercept=np.float64(-0.0002904296585862498), rvalue=np.float64(0.9999986330351939), pvalue=np.float64(0.0), stderr=np.float64(1.6535550611684055e-05), intercept_stderr=np.float64(4.3790116956085005e-06))\n",
      "SWIR2\n",
      "LinregressResult(slope=np.float64(0.9867743558538054), intercept=np.float64(0.00035471873443140844), rvalue=np.float64(0.9999429845076386), pvalue=np.float64(0.0), stderr=np.float64(0.00010538803269151513), intercept_stderr=np.float64(2.227108439687288e-05))\n"
     ]
    },
    {
     "data": {
      "image/png": "[encoded data removed]",
      "text/plain": [
       "<Figure size 640x480 with 1 Axes>"
      ]
     },
     "metadata": {},
     "output_type": "display_data"
    }
   ],
   "source": [
    "### Code from Martin Claverie for quick evaluation ###\n",
    "x = np.array([0,.8])\n",
    "\n",
    "plt.plot(x,x,'k')\n",
    "lr = linregress(df_MSI2B.CA,df_OLI.CA)\n",
    "plt.plot(x, lr.intercept + lr.slope*x, 'r', label='fitted line')\n",
    "plt.plot(df_MSI2B.CA,df_OLI.CA,'xb',markersize=2)\n",
    "plt.xlabel('MSI2B')\n",
    "plt.ylabel('OLI')\n",
    "\n",
    "for band in df_MSI2B.keys()[1:]:\n",
    "    print(band)\n",
    "    print(linregress(df_MSI2B[band],df_OLI[band]))\n",
    "\n",
    "### Reference ###\n",
    "# CA\n",
    "# LinregressResult(slope=0.9958871255508047, intercept=-0.0002487276412662387, rvalue=0.9999861238470256, pvalue=0.0, stderr=5.246958254581606e-05)\n",
    "# Blue\n",
    "# LinregressResult(slope=0.9780309010429665, intercept=-0.004061428468512443, rvalue=0.9997335966148552, pvalue=0.0, stderr=0.00022582273574057055)\n",
    "# Green\n",
    "# LinregressResult(slope=1.007319086013688, intercept=-0.0008447341379998891, rvalue=0.9998286859944513, pvalue=0.0, stderr=0.00018649952725867746)\n",
    "# Red\n",
    "# LinregressResult(slope=0.9760896456316293, intercept=0.0010256725249798704, rvalue=0.9998546297658693, pvalue=0.0, stderr=0.00016646894857012156)\n",
    "# NIR2\n",
    "# LinregressResult(slope=1.0177316936553256, intercept=0.008355443717503575, rvalue=0.9976538573319376, pvalue=0.0, stderr=0.0006984481559719521)\n",
    "# NIR1\n",
    "# LinregressResult(slope=0.9966445715003783, intercept=2.526430153748649e-05, rvalue=0.9999944867158492, pvalue=0.0, stderr=3.309830252349184e-05)\n",
    "# SWIR1\n",
    "# LinregressResult(slope=0.9999565220607817, intercept=-0.0002904296585864441, rvalue=0.9999986330351948, pvalue=0.0, stderr=1.6535550606312104e-05)\n",
    "# SWIR2\n",
    "# LinregressResult(slope=0.9867743558538057, intercept=0.00035471873443135293, rvalue=0.999942984507639, pvalue=0.0, stderr=0.00010538803269120731)"
   ]
  },
  {
   "cell_type": "code",
   "execution_count": 5,
   "id": "750a20a3-601e-4a6b-9801-d003333bca1b",
   "metadata": {},
   "outputs": [
    {
     "name": "stdout",
     "output_type": "stream",
     "text": [
      "   Wavelength(nm)  FWHM(nm)\n",
      "0          426.82   11.3871\n",
      "1          436.99   11.3871\n",
      "2          447.17   11.3871\n",
      "3          457.34   11.3871\n",
      "4          467.52   11.3871\n"
     ]
    }
   ],
   "source": [
    "fwhm_df = pd.read_csv(os.path.join(work_dir, \"Hyperion_wavelength_FWHM.csv\")).sort_values(\"Wavelength(nm)\")\n",
    "fwhm_df[\"Wavelength(nm)\"] = fwhm_df[\"Wavelength(nm)\"]#.round()\n",
    "print(fwhm_df.head())\n",
    "def find_neighbours(value, df, idx_col, val_col):\n",
    "    exactmatch = df[df[idx_col] == value]\n",
    "    if not exactmatch.empty:\n",
    "        return exactmatch.index\n",
    "    else:\n",
    "        temp_df = df[df[idx_col] < value][idx_col]\n",
    "        if len(temp_df)>0:\n",
    "            lowerneighbour_ind = temp_df.idxmax()\n",
    "        else:\n",
    "            lowerneighbour_ind = 0\n",
    "        temp_df = df[df[idx_col] > value][idx_col]\n",
    "        if len(temp_df)>0:\n",
    "            upperneighbour_ind = temp_df.idxmin()\n",
    "        else:\n",
    "            upperneighbour_ind = len(df) - 1\n",
    "        return [lowerneighbour_ind, upperneighbour_ind] \n",
    "\n",
    "def find_hyperion_bands(s2_band, buffer, hyperion_df, return_index=False):\n",
    "    low_bnd = find_neighbours(s2_band-buffer, hyperion_df, \"Wavelength(nm)\", \"FWHM(nm)\")[0]\n",
    "    up_bnd = find_neighbours(s2_band+buffer, hyperion_df, \"Wavelength(nm)\", \"FWHM(nm)\")[-1]\n",
    "    # print(\"Lower boundary: \", hyperion_df.iloc[low_bnd])\n",
    "    # print(\"Upper boundary: \", hyperion_df.iloc[up_bnd])\n",
    "    # print(\"Arry: \", hyperion_df.iloc[(low_bnd-1):up_bnd])\n",
    "    if return_index:\n",
    "        return hyperion_df.iloc[low_bnd:(up_bnd+1)], [low_bnd, up_bnd]\n",
    "    else:\n",
    "        return hyperion_df.iloc[low_bnd:(up_bnd+1)]\n",
    "    \n",
    "\n",
    "# print(find_neighbours(426.82, fwhm_df, \"Wavelength(nm)\", \"FWHM(nm)\"))\n",
    "# print(find_neighbours(436.9, fwhm_df, \"Wavelength(nm)\", \"FWHM(nm)\"))\n",
    "# print(find_neighbours(2395.5, fwhm_df, \"Wavelength(nm)\", \"FWHM(nm)\"))\n",
    "# idx = find_neighbours(426.82, fwhm_df, \"Wavelength(nm)\", \"FWHM(nm)\")\n",
    "# print(find_hyperion_bands(414, 20, fwhm_df))\n",
    "# print(find_hyperion_bands(2312, 20, fwhm_df))\n",
    "# print(find_hyperion_bands(2385, 20, fwhm_df))\n"
   ]
  },
  {
   "cell_type": "code",
   "execution_count": 6,
   "id": "9481260b-5240-499b-9766-ee18daca9389",
   "metadata": {},
   "outputs": [],
   "source": [
    "### test: distribution of Hyperion RSR function (Gaussian) ###\n",
    "# fwhm = 11.3871\n",
    "# delta = fwhm/(2*np.sqrt(2*np.log(2)))\n",
    "# # wv = 436.99\n",
    "# rsr = []\n",
    "# for i in range(-20, 21):\n",
    "#     rsr.append(np.exp(-(i)**2/(2*delta**2))/(delta*np.sqrt(2*np.pi)))\n",
    "# print(rsr)\n",
    "# plt.plot(rsr)\n",
    "\n",
    "def Gaussian_rsr(hyperion_band, fwhm, buffer):\n",
    "    # print(type(fwhm))\n",
    "    # hyperion_band = np.round(hyperion_band)\n",
    "    # delta = fwhm/(2*np.sqrt(2*np.log(2)))\n",
    "    delta = fwhm/(2*np.sqrt(2*np.log10(2)))\n",
    "    rsr = []\n",
    "    wv = []\n",
    "    for i in range(np.round(hyperion_band-buffer).astype(int), np.round(hyperion_band+buffer+1).astype(int)):\n",
    "        # rsr.append(np.exp(-(i-hyperion_band)**2/(2*delta**2))/(delta*np.sqrt(2*np.pi)))\n",
    "        rsr.append(np.exp(-(i-hyperion_band)**2/(2*delta**2))/(delta*np.sqrt(2*np.pi)))\n",
    "        wv.append(i)\n",
    "    return {\"wv\": wv, \"rsr\": rsr}\n",
    "\n",
    "# rsr = Gaussian_rsr(436.99, 11.3871, 20)\n",
    "# plt.plot(rsr[\"wv\"], rsr[\"rsr\"])\n",
    "\n",
    "### Calculate simulated S2 surface reflectance for samples ###\n",
    "def simu_s2_spec(s2_rsr_df, hyperion_fwhm_df, hyperion_spec_df, sensor, band): #sensor=S2B, band=\"Red\"\n",
    "# band = \"Red\"\n",
    "    rsr_bandname = f\"{sensor}_SR_AV_{S2_name2index[band]}\".replace(\"0\",\"\")\n",
    "    band_rsr = s2_rsr_df[rsr_bandname]\n",
    "    band_rsr = band_rsr[band_rsr>0]\n",
    "    # print(band_rsr)\n",
    "    # print(band_rsr.index)\n",
    "    # print(band_rsr.index.min())\n",
    "    # print(band_rsr.index.max())\n",
    "    low_bands, low_idx = find_hyperion_bands(band_rsr.index.min(), buffer, fwhm_df, return_index=True)\n",
    "    up_bands, up_idx = find_hyperion_bands(band_rsr.index.max(), buffer, fwhm_df, return_index=True)\n",
    "    # print(\"low_idx: \", low_idx[0])\n",
    "    # print(\"low_bands: \", low_bands)\n",
    "    # print(\"up_idx: \", up_idx[-1])\n",
    "    # print(\"up_bands: \", up_bands)\n",
    "    hyperion_overlap = fwhm_df.iloc[low_idx[0]:(up_idx[-1]+1)]\n",
    "    # print(hyperion_overlap)\n",
    "    rsr_weights = []\n",
    "    for index, row in hyperion_overlap.iterrows():\n",
    "        # print(row)\n",
    "        rsr_hy_df = pd.DataFrame(Gaussian_rsr(row[\"Wavelength(nm)\"], row[\"FWHM(nm)\"], buffer))\n",
    "        rsr_hy_df.set_index(['wv'], inplace=True)\n",
    "        # print(rsr_hy_df)\n",
    "        join_df = rsr_hy_df.join(band_rsr, how='inner')\n",
    "        # print(join_df.head())\n",
    "        rsr_weight = np.sum(join_df[\"rsr\"]*join_df[rsr_bandname])\n",
    "        if str(row[\"Wavelength(nm)\"]) in hyperion_spec_df.columns:\n",
    "            sample_cal[\"SR\"] += hyperion_spec_df[str(row[\"Wavelength(nm)\"])] * rsr_weight\n",
    "            rsr_weights.append(rsr_weight)\n",
    "    sample_cal[\"SR\"] /= np.sum(rsr_weights) \n",
    "    sample_cal[\"SR\"] /= 10000.0\n",
    "    \n",
    "    # print(sample_cal.head())\n",
    "    sample_cal.to_csv(os.path.join(work_dir, f\"Hyperion_spectra_MSI_{sensor}_{band}_test.csv\"))\n",
    "    return sample_cal"
   ]
  },
  {
   "cell_type": "markdown",
   "id": "fd145ba1-222d-4a93-86d7-a4a9bdfcc711",
   "metadata": {},
   "source": [
    "# Validate functions"
   ]
  },
  {
   "cell_type": "code",
   "execution_count": 7,
   "id": "d2f4bd81-6d08-4c5c-9ffc-8fa700db7cb8",
   "metadata": {},
   "outputs": [
    {
     "name": "stdout",
     "output_type": "stream",
     "text": [
      "S2B\n",
      "\n",
      " Coastal Aerosol\n",
      "Reference:  0.996 -0.00025\n",
      "Calculation:  0.996 -0.00022\n",
      "\n",
      " Blue\n",
      "Reference:  0.978 -0.00406\n",
      "Calculation:  0.977 -0.00419\n",
      "\n",
      " Green\n",
      "Reference:  1.007 -0.00084\n",
      "Calculation:  1.007 -0.00085\n",
      "\n",
      " Red\n",
      "Reference:  0.976 0.00103\n",
      "Calculation:  0.976 0.00102\n",
      "\n",
      " NIR\n",
      "Reference:  0.997 3e-05\n",
      "Calculation:  0.997 3e-05\n",
      "\n",
      " SWIR1\n",
      "Reference:  1.0 -0.00029\n",
      "Calculation:  1.0 -0.00024\n",
      "\n",
      " SWIR2\n",
      "Reference:  0.987 0.00035\n",
      "Calculation:  0.987 0.00028\n"
     ]
    }
   ],
   "source": [
    "# s2_rsr = pd.read_csv(os.path.join(work_dir, \"S2_SRF_2024\", \"SpectralResponses_S2C.csv\"), index_col=\"SR_WL\")\n",
    "# s2_rsr_df = pd.read_csv(os.path.join(work_dir, \"S2_SRF_2024\", \"SpectralResponses_S2B.csv\"), index_col=\"SR_WL\")\n",
    "s2_rsr_df = pd.read_csv(os.path.join(work_dir, \"S2_SRF_old\", \"SpectralResponses_S2B.csv\"), index_col=\"SR_WL\")\n",
    "hyperion_fwhm_df = pd.read_csv(os.path.join(work_dir, \"Hyperion_wavelength_FWHM.csv\")).sort_values(\"Wavelength(nm)\")\n",
    "hyperion_spec_df = pd.read_csv(os.path.join(work_dir, \"Hyperion_spectra.csv\"))\n",
    "# print(sample_spec.head())\n",
    "sample_cal = pd.DataFrame({\"SR\":[0]*len(hyperion_spec_df)})\n",
    "# print(sample_cal.head())\n",
    "buffer = 15\n",
    "\n",
    "sensor = \"S2B\"\n",
    "df_ref =  pd.read_csv(os.path.join(work_dir, \"Hyperion_spectra_MSI_2B.csv\"))\n",
    "print(sensor)\n",
    "for band in common_bands:\n",
    "    sample_cal = simu_s2_spec(s2_rsr_df, hyperion_fwhm_df, hyperion_spec_df, sensor, band)\n",
    "    # print(np.max(np.abs(df_MSI2B[\"Red\"] - sample_cal[\"SR\"])))\n",
    "    print(\"\\n\", band)\n",
    "    ref_reg = linregress(df_ref[bandname2bpname[band]],df_OLI[bandname2bpname[band]])\n",
    "    print(\"Reference: \", np.round(ref_reg.slope, 3), np.round(ref_reg.intercept, 5))\n",
    "    cal_reg = linregress(sample_cal[\"SR\"],df_OLI[bandname2bpname[band]])\n",
    "    print(\"Calculation: \", np.round(cal_reg.slope, 3), np.round(cal_reg.intercept, 5))"
   ]
  },
  {
   "cell_type": "markdown",
   "id": "c80469b3-6204-4f36-9690-de914c4ce74f",
   "metadata": {},
   "source": [
    "# S2C coefficients"
   ]
  },
  {
   "cell_type": "code",
   "execution_count": 12,
   "id": "b848f810-e136-4a92-a779-6326d208244e",
   "metadata": {},
   "outputs": [
    {
     "name": "stdout",
     "output_type": "stream",
     "text": [
      "S2C\n",
      "\n",
      " Coastal Aerosol\n",
      "Calculation:  1.003 -0.0\n",
      "\n",
      " Blue\n",
      "Calculation:  0.9851 -0.0027\n",
      "\n",
      " Green\n",
      "Calculation:  1.0038 -0.0009\n",
      "\n",
      " Red\n",
      "Calculation:  0.9718 0.0011\n",
      "\n",
      " NIR\n",
      "Calculation:  0.9995 -0.0003\n",
      "\n",
      " SWIR1\n",
      "Calculation:  0.9994 -0.0007\n",
      "\n",
      " SWIR2\n",
      "Calculation:  0.991 0.0004\n"
     ]
    }
   ],
   "source": [
    "s2_rsr_df = pd.read_csv(os.path.join(work_dir, \"S2_SRF_2024\", \"SpectralResponses_S2C.csv\"), index_col=\"SR_WL\")\n",
    "# print(s2_rsr.head())\n",
    "hyperion_fwhm_df = pd.read_csv(os.path.join(work_dir, \"Hyperion_wavelength_FWHM.csv\")).sort_values(\"Wavelength(nm)\")\n",
    "hyperion_spec_df = pd.read_csv(os.path.join(work_dir, \"Hyperion_spectra.csv\"))\n",
    "# print(sample_spec.head())\n",
    "sample_cal = pd.DataFrame({\"SR\":[0]*len(hyperion_spec_df)})\n",
    "# print(sample_cal.head())\n",
    "buffer = 15\n",
    "\n",
    "sensor = \"S2C\"\n",
    "print(sensor)\n",
    "for band in common_bands:\n",
    "    sample_cal = simu_s2_spec(s2_rsr_df, hyperion_fwhm_df, hyperion_spec_df, sensor, band)\n",
    "    # print(np.max(np.abs(df_MSI2B[\"Red\"] - sample_cal[\"SR\"])))\n",
    "    print(\"\\n\", band)\n",
    "    cal_reg = linregress(sample_cal[\"SR\"],df_OLI[bandname2bpname[band]])\n",
    "    print(\"Calculation: \", np.round(cal_reg.slope, 4), np.round(cal_reg.intercept, 4))\n",
    "    # print(\"Calculation: \", np.round(cal_reg.slope, 3), np.round(cal_reg.intercept, 5))"
   ]
  }
 ],
 "metadata": {
  "kernelspec": {
   "display_name": "Python 3 (ipykernel)",
   "language": "python",
   "name": "python3"
  },
  "language_info": {
   "codemirror_mode": {
    "name": "ipython",
    "version": 3
   },
   "file_extension": ".py",
   "mimetype": "text/x-python",
   "name": "python",
   "nbconvert_exporter": "python",
   "pygments_lexer": "ipython3",
   "version": "3.12.7"
  }
 },
 "nbformat": 4,
 "nbformat_minor": 5
}
